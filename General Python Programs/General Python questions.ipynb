{
 "cells": [
  {
   "cell_type": "markdown",
   "id": "c822ec93",
   "metadata": {},
   "source": [
    "# Fibonacci series using recursion"
   ]
  },
  {
   "cell_type": "code",
   "execution_count": 9,
   "id": "be283534",
   "metadata": {},
   "outputs": [
    {
     "name": "stdout",
     "output_type": "stream",
     "text": [
      "Enter the no of terms: 5\n",
      "Series: \n",
      "0 1 1 2 3 \n",
      "1.6369831562042236\n"
     ]
    }
   ],
   "source": [
    "import time\n",
    "start = time.time()\n",
    "\n",
    "def fibonacci(n):\n",
    "    if (n<=1):\n",
    "        return n\n",
    "    else:\n",
    "        return (fibonacci(n-1)+fibonacci(n-2))\n",
    "\n",
    "n = int(input(\"Enter the no of terms: \"))\n",
    "print(\"Series: \")\n",
    "for i in range(n):\n",
    "    print(fibonacci(i) , end = \" \")\n",
    "\n",
    "print()\n",
    "print(time.time() - start)"
   ]
  },
  {
   "cell_type": "markdown",
   "id": "d2a1d5a3",
   "metadata": {},
   "source": [
    "# Fibonacci series without recursion"
   ]
  },
  {
   "cell_type": "code",
   "execution_count": 11,
   "id": "62bf4394",
   "metadata": {},
   "outputs": [
    {
     "name": "stdout",
     "output_type": "stream",
     "text": [
      "Enter the no of terms: 5\n",
      "0 1 1 2 3 "
     ]
    }
   ],
   "source": [
    "n = int(input(\"Enter the no of terms: \"))\n",
    "a,b = 0,1\n",
    "print(a,b,end = \" \")\n",
    "while(n-2):\n",
    "    c=a+b\n",
    "    a = b\n",
    "    b = c\n",
    "    print(c, end  = \" \")\n",
    "    n=n-1\n"
   ]
  },
  {
   "cell_type": "markdown",
   "id": "70960dc2",
   "metadata": {},
   "source": [
    "# Factorial of a number using recursion"
   ]
  },
  {
   "cell_type": "code",
   "execution_count": 12,
   "id": "9a293ea7",
   "metadata": {},
   "outputs": [
    {
     "name": "stdout",
     "output_type": "stream",
     "text": [
      "Enter the no: 5\n"
     ]
    },
    {
     "data": {
      "text/plain": [
       "120"
      ]
     },
     "execution_count": 12,
     "metadata": {},
     "output_type": "execute_result"
    }
   ],
   "source": [
    "def recursive_factorial(n):\n",
    "    if (n<=1):\n",
    "        return 1\n",
    "    else:\n",
    "        return n*recursive_factorial(n-1)\n",
    "\n",
    "n = int(input(\"Enter the no: \"))\n",
    "fact = 1\n",
    "recursive_factorial(n)"
   ]
  },
  {
   "cell_type": "markdown",
   "id": "31b3a5c4",
   "metadata": {},
   "source": [
    "# Factorial of a number without recusion"
   ]
  },
  {
   "cell_type": "code",
   "execution_count": 13,
   "id": "acba512f",
   "metadata": {},
   "outputs": [
    {
     "name": "stdout",
     "output_type": "stream",
     "text": [
      "Enter the no: 5\n",
      "120\n"
     ]
    }
   ],
   "source": [
    "n = int(input(\"Enter the no: \"))\n",
    "fact = 1\n",
    "\n",
    "while(n>0):\n",
    "    fact = fact * n\n",
    "    n = n-1\n",
    "    \n",
    "print(fact)"
   ]
  },
  {
   "cell_type": "code",
   "execution_count": null,
   "id": "b4668980",
   "metadata": {},
   "outputs": [],
   "source": []
  }
 ],
 "metadata": {
  "kernelspec": {
   "display_name": "Python 3 (ipykernel)",
   "language": "python",
   "name": "python3"
  },
  "language_info": {
   "codemirror_mode": {
    "name": "ipython",
    "version": 3
   },
   "file_extension": ".py",
   "mimetype": "text/x-python",
   "name": "python",
   "nbconvert_exporter": "python",
   "pygments_lexer": "ipython3",
   "version": "3.9.12"
  }
 },
 "nbformat": 4,
 "nbformat_minor": 5
}
