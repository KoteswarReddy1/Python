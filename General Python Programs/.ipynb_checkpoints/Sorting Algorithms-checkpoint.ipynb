{
 "cells": [
  {
   "cell_type": "markdown",
   "id": "2de714b0",
   "metadata": {},
   "source": [
    "Different sorting Algorithms:\n",
    ">Bubble sort\n",
    "\n",
    ">Merge sort\n",
    "\n",
    ">Insertion sort\n",
    "\n",
    ">Selection sort\n",
    "\n",
    ">Quick sort"
   ]
  },
  {
   "cell_type": "markdown",
   "id": "ade17259",
   "metadata": {},
   "source": [
    "# Bubble sort\n",
    "\n",
    "It is a comparison-based algorithm in which each pair of adjacent elements is compared and the elements are swapped if they are not in order.\n",
    "> The largest element will go to the last place when compared with each element, hence in next iteration we can ignore the last value as it will be the highest value."
   ]
  },
  {
   "cell_type": "code",
   "execution_count": 8,
   "id": "c72661c6",
   "metadata": {},
   "outputs": [
    {
     "name": "stdout",
     "output_type": "stream",
     "text": [
      "[191, 31, 191, 121, 45, 6, 11, 27]\n",
      "[191, 31, 121, 191, 45, 6, 11, 27]\n",
      "[191, 31, 121, 45, 191, 6, 11, 27]\n",
      "[191, 31, 121, 45, 6, 191, 11, 27]\n",
      "[191, 31, 121, 45, 6, 11, 191, 27]\n",
      "[191, 31, 121, 45, 6, 11, 27, 191]\n",
      "[31, 191, 121, 45, 6, 11, 27, 191]\n",
      "[31, 121, 191, 45, 6, 11, 27, 191]\n",
      "[31, 121, 45, 191, 6, 11, 27, 191]\n",
      "[31, 121, 45, 6, 191, 11, 27, 191]\n",
      "[31, 121, 45, 6, 11, 191, 27, 191]\n",
      "[31, 121, 45, 6, 11, 27, 191, 191]\n",
      "[31, 45, 121, 6, 11, 27, 191, 191]\n",
      "[31, 45, 6, 121, 11, 27, 191, 191]\n",
      "[31, 45, 6, 11, 121, 27, 191, 191]\n",
      "[31, 45, 6, 11, 27, 121, 191, 191]\n",
      "[31, 6, 45, 11, 27, 121, 191, 191]\n",
      "[31, 6, 11, 45, 27, 121, 191, 191]\n",
      "[31, 6, 11, 27, 45, 121, 191, 191]\n",
      "[6, 31, 11, 27, 45, 121, 191, 191]\n",
      "[6, 11, 31, 27, 45, 121, 191, 191]\n",
      "[6, 11, 27, 31, 45, 121, 191, 191]\n",
      "[6, 11, 27, 31, 45, 121, 191, 191]\n"
     ]
    }
   ],
   "source": [
    "data = [191,191,31,121,45,6,11,27]\n",
    "\n",
    "def bubble_sort(list):\n",
    "    for i in range(len(list),0,-1):\n",
    "        for j in range(i-1):\n",
    "            if list[j]>list[j+1]:\n",
    "                list[j],list[j+1] = list[j+1],list[j]\n",
    "                print(list) # added this line to see the list for each change\n",
    "\n",
    "bubble_sort(data)\n",
    "print(data)"
   ]
  },
  {
   "cell_type": "markdown",
   "id": "a82a2e88",
   "metadata": {},
   "source": [
    "# Merge Sort\n",
    "\n",
    "It uses divide andd conquer method. "
   ]
  },
  {
   "cell_type": "code",
   "execution_count": 3,
   "id": "2c5ec986",
   "metadata": {},
   "outputs": [
    {
     "name": "stdout",
     "output_type": "stream",
     "text": [
      "[3, 7, 8, 10, 15, 23, 29, 98]\n",
      "[]\n",
      "[3]\n",
      "[2, 7, 8, 9]\n",
      "[1, 2, 3, 4, 5]\n"
     ]
    }
   ],
   "source": [
    "def merge_sort(arr):\n",
    "    if len(arr)<=1:\n",
    "        return\n",
    "    \n",
    "    mid = len(arr)//2\n",
    "    left = arr[:mid]\n",
    "    right = arr[mid:]\n",
    "    \n",
    "    merge_sort(left)\n",
    "    merge_sort(right)\n",
    "    \n",
    "    i=j=k=0\n",
    "    \n",
    "    while i<len(left) and j<len(right):\n",
    "        \n",
    "        if left[i]<right[j]:\n",
    "            arr[k]=left[i]\n",
    "            i+=1\n",
    "        else:\n",
    "            arr[k]=right[j]\n",
    "            j+=1\n",
    "        k+=1\n",
    "        \n",
    "    while i<len(left):\n",
    "        arr[k]=left[i]\n",
    "        i+=1\n",
    "        k+=1\n",
    "    \n",
    "    while j<len(right):\n",
    "        arr[k]=right[j]\n",
    "        j+=1\n",
    "        k+=1\n",
    "        \n",
    "test_cases = [\n",
    "        [10, 3, 15, 7, 8, 23, 98, 29],\n",
    "        [],\n",
    "        [3],\n",
    "        [9,8,7,2],\n",
    "        [1,2,3,4,5]\n",
    "    ]\n",
    "\n",
    "for arr in test_cases:\n",
    "        merge_sort(arr)\n",
    "        print(arr)"
   ]
  },
  {
   "cell_type": "markdown",
   "id": "912a0494",
   "metadata": {},
   "source": [
    "# Sorting a list of dictionaries based on the key using Merge sort "
   ]
  },
  {
   "cell_type": "code",
   "execution_count": 5,
   "id": "e4abcbc9",
   "metadata": {},
   "outputs": [
    {
     "name": "stdout",
     "output_type": "stream",
     "text": [
      "[{'name': 'vignesh', 'age': 21, 'time_hours': 2.5}, {'name': 'vedanth', 'age': 17, 'time_hours': 1}, {'name': 'rajab', 'age': 12, 'time_hours': 3}, {'name': 'chinmay', 'age': 24, 'time_hours': 1.5}]\n"
     ]
    }
   ],
   "source": [
    "def merge_sort(elements, key, descending=False):\n",
    "    size = len(elements)\n",
    "\n",
    "    if size == 1:\n",
    "        return elements\n",
    "\n",
    "    left_list = merge_sort(elements[0:size//2], key, descending)\n",
    "    right_list = merge_sort(elements[size//2:], key, descending)\n",
    "    sorted_list = merge(left_list, right_list, key, descending)\n",
    "\n",
    "    return sorted_list\n",
    "\n",
    "    \n",
    "def merge(left_list, right_list, key, descending=False):\n",
    "    merged = []\n",
    "    if descending:\n",
    "        while len(left_list) > 0 and len(right_list) > 0:\n",
    "            if left_list[0][key] >= right_list[0][key]:\n",
    "                merged.append(left_list.pop(0))\n",
    "            else:\n",
    "                merged.append(right_list.pop(0))\n",
    "\n",
    "    else:\n",
    "        while len(left_list) > 0 and len(right_list) > 0:\n",
    "            if left_list[0][key] <= right_list[0][key]:\n",
    "                merged.append(left_list.pop(0))\n",
    "            else:\n",
    "                merged.append(right_list.pop(0))\n",
    "\n",
    "    merged.extend(left_list)\n",
    "    merged.extend(right_list)\n",
    "    return merged\n",
    "\n",
    "if __name__ == '__main__':\n",
    "    elements = [\n",
    "        { 'name': 'vedanth',   'age': 17, 'time_hours': 1},\n",
    "        { 'name': 'rajab', 'age': 12,  'time_hours': 3},\n",
    "        { 'name': 'vignesh',  'age': 21,  'time_hours': 2.5},\n",
    "        { 'name': 'chinmay',  'age': 24,  'time_hours': 1.5},\n",
    "    ]\n",
    "\n",
    "    sorted_list = merge_sort(elements, key='name', descending=True)\n",
    "    print(sorted_list)"
   ]
  },
  {
   "cell_type": "code",
   "execution_count": null,
   "id": "873e8cb5",
   "metadata": {},
   "outputs": [],
   "source": []
  }
 ],
 "metadata": {
  "kernelspec": {
   "display_name": "Python 3 (ipykernel)",
   "language": "python",
   "name": "python3"
  },
  "language_info": {
   "codemirror_mode": {
    "name": "ipython",
    "version": 3
   },
   "file_extension": ".py",
   "mimetype": "text/x-python",
   "name": "python",
   "nbconvert_exporter": "python",
   "pygments_lexer": "ipython3",
   "version": "3.9.12"
  }
 },
 "nbformat": 4,
 "nbformat_minor": 5
}
