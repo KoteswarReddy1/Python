{
 "cells": [
  {
   "cell_type": "markdown",
   "id": "d7a13e48",
   "metadata": {},
   "source": [
    "# To find median and mode of a dataset"
   ]
  },
  {
   "cell_type": "code",
   "execution_count": 3,
   "id": "bbde404b",
   "metadata": {},
   "outputs": [
    {
     "name": "stdout",
     "output_type": "stream",
     "text": [
      "[1, 1, 1, 1, 1, 1, 2, 2, 2, 2, 3, 3, 3, 3, 4]\n"
     ]
    }
   ],
   "source": [
    "data = [1,1,1,2,2,3,3,2,1,1,2,3,3,4,1]\n",
    "\n",
    "def bubble_sort(list):\n",
    "    for i in range(len(list),0,-1):\n",
    "        for j in range(i-1):\n",
    "            if list[j]>list[j+1]:\n",
    "                list[j],list[j+1] = list[j+1],list[j]\n",
    "\n",
    "bubble_sort(data)\n",
    "print(data)"
   ]
  },
  {
   "cell_type": "code",
   "execution_count": 8,
   "id": "77efdcb7",
   "metadata": {},
   "outputs": [
    {
     "name": "stdout",
     "output_type": "stream",
     "text": [
      "[{'name': 'rajab', 'age': 12, 'time_hours': 3}, {'name': 'vignesh', 'age': 21, 'time_hours': 2.5}, {'name': 'chinmay', 'age': 24, 'time_hours': 1.5}, {'name': 'vedanth', 'age': 17, 'time_hours': 1}]\n"
     ]
    }
   ],
   "source": [
    "def merge_sort(elements, key, descending=False):\n",
    "    size = len(elements)\n",
    "\n",
    "    if size == 1:\n",
    "        return elements\n",
    "\n",
    "    left_list = merge_sort(elements[0:size//2], key, descending)\n",
    "    right_list = merge_sort(elements[size//2:], key, descending)\n",
    "    sorted_list = merge(left_list, right_list, key, descending)\n",
    "\n",
    "    return sorted_list\n",
    "\n",
    "    \n",
    "def merge(left_list, right_list, key, descending=False):\n",
    "    merged = []\n",
    "    if descending:\n",
    "        while len(left_list) > 0 and len(right_list) > 0:\n",
    "            if left_list[0][key] >= right_list[0][key]:\n",
    "                merged.append(left_list.pop(0))\n",
    "            else:\n",
    "                merged.append(right_list.pop(0))\n",
    "\n",
    "    else:\n",
    "        while len(left_list) > 0 and len(right_list) > 0:\n",
    "            if left_list[0][key] <= right_list[0][key]:\n",
    "                merged.append(left_list.pop(0))\n",
    "            else:\n",
    "                merged.append(right_list.pop(0))\n",
    "\n",
    "    merged.extend(left_list)\n",
    "    merged.extend(right_list)\n",
    "    return merged\n",
    "\n",
    "if __name__ == '__main__':\n",
    "    elements = [\n",
    "        { 'name': 'vedanth',   'age': 17, 'time_hours': 1},\n",
    "        { 'name': 'rajab', 'age': 12,  'time_hours': 3},\n",
    "        { 'name': 'vignesh',  'age': 21,  'time_hours': 2.5},\n",
    "        { 'name': 'chinmay',  'age': 24,  'time_hours': 1.5},\n",
    "    ]\n",
    "\n",
    "    sorted_list = merge_sort(elements, key='time_hours', descending=True)\n",
    "    print(sorted_list)"
   ]
  },
  {
   "cell_type": "code",
   "execution_count": 6,
   "id": "266c49aa",
   "metadata": {},
   "outputs": [
    {
     "name": "stdout",
     "output_type": "stream",
     "text": [
      "12\n"
     ]
    }
   ],
   "source": [
    "print(sorted_list[0]['age'])"
   ]
  },
  {
   "cell_type": "code",
   "execution_count": null,
   "id": "244b18ec",
   "metadata": {},
   "outputs": [],
   "source": []
  }
 ],
 "metadata": {
  "kernelspec": {
   "display_name": "Python 3 (ipykernel)",
   "language": "python",
   "name": "python3"
  },
  "language_info": {
   "codemirror_mode": {
    "name": "ipython",
    "version": 3
   },
   "file_extension": ".py",
   "mimetype": "text/x-python",
   "name": "python",
   "nbconvert_exporter": "python",
   "pygments_lexer": "ipython3",
   "version": "3.9.12"
  }
 },
 "nbformat": 4,
 "nbformat_minor": 5
}
