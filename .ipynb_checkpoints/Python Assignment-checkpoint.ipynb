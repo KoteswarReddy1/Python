{
 "cells": [
  {
   "cell_type": "markdown",
   "id": "c6c85183",
   "metadata": {},
   "source": [
    "# Given Data"
   ]
  },
  {
   "cell_type": "code",
   "execution_count": 2,
   "id": "4c9f3b8b",
   "metadata": {},
   "outputs": [],
   "source": [
    "# Price Data\n",
    "\n",
    "item_dict = {'almonds': 6,\n",
    " 'antioxidant juice': 9,\n",
    " 'avocado': 1,\n",
    " 'black tea': 4,\n",
    " 'burgers': 4,\n",
    " 'champagne': 3,\n",
    " 'chicken': 4,\n",
    " 'chocolate': 7,\n",
    " 'chutney': 7,\n",
    " 'cookies': 7,\n",
    " 'cooking oil': 7,\n",
    " 'cottage cheese': 9,\n",
    " 'eggs': 9,\n",
    " 'energy bar': 9,\n",
    " 'energy drink': 3,\n",
    " 'extra dark chocolate': 8,\n",
    " 'french fries': 7,\n",
    " 'fresh tuna': 9,\n",
    " 'frozen smoothie': 7,\n",
    " 'frozen vegetables': 2,\n",
    " 'green grapes': 8,\n",
    " 'green tea': 8,\n",
    " 'honey': 9,\n",
    " 'light cream': 5,\n",
    " 'low fat yogurt': 4,\n",
    " 'meatballs': 9,\n",
    " 'milk': 5,\n",
    " 'mineral water': 2,\n",
    " 'oil': 9,\n",
    " 'olive oil': 8,\n",
    " 'pet food': 3,\n",
    " 'protein bar': 1,\n",
    " 'salad': 7,\n",
    " 'salmon': 3,\n",
    " 'shallot': 6,\n",
    " 'shrimp': 2,\n",
    " 'soup': 2,\n",
    " 'spaghetti': 6,\n",
    " 'spinach': 7,\n",
    " 'tomato juice': 8,\n",
    " 'tomatoes': 5,\n",
    " 'turkey': 8,\n",
    " 'vegetables mix': 3,\n",
    " 'whole wheat flour': 5,\n",
    " 'whole wheat pasta': 5,\n",
    " 'whole wheat rice': 4,\n",
    " 'yams': 7}\n",
    "\n",
    "# transaction data\n",
    "\n",
    "transaction_data = \\\n",
    "[['shrimp', 'almonds', 'avocado', 'vegetables mix', 'green grapes', 'whole wheat flour', 'yams', 'cottage cheese', 'energy drink', 'tomato juice', 'low fat yogurt', 'green tea', 'honey', 'salad', 'mineral water', 'salmon', 'antioxidant juice', 'frozen smoothie', 'spinach', 'olive oil'],\n",
    "['burgers', 'meatballs', 'eggs'],\n",
    "['chutney'],\n",
    "['turkey', 'avocado'],\n",
    "['mineral water', 'milk', 'energy bar', 'whole wheat rice', 'green tea'],\n",
    "['low fat yogurt'],\n",
    "['whole wheat pasta', 'french fries'],\n",
    "['soup', 'light cream', 'shallot'],\n",
    "['frozen vegetables', 'spaghetti', 'green tea'],\n",
    "['french fries'],\n",
    "['eggs', 'pet food'],\n",
    "['cookies'],\n",
    "['turkey', 'burgers', 'mineral water', 'eggs', 'cooking oil'],\n",
    "['spaghetti', 'champagne', 'cookies'],\n",
    "['mineral water', 'salmon'],\n",
    "['mineral water'],\n",
    "['shrimp', 'chocolate', 'chicken', 'honey', 'oil', 'cooking oil', 'low fat yogurt'],\n",
    "['turkey', 'eggs'],\n",
    "['turkey', 'fresh tuna', 'tomatoes', 'spaghetti', 'mineral water', 'black tea', 'salmon', 'eggs', 'chicken', 'extra dark chocolate'],\n",
    "['meatballs', 'milk', 'honey', 'french fries', 'protein bar']]\n",
    "\n"
   ]
  },
  {
   "cell_type": "markdown",
   "id": "32e4c5df",
   "metadata": {},
   "source": [
    "# Question 1\n",
    "## 1.1 Find how many unique items are present in the data?"
   ]
  },
  {
   "cell_type": "code",
   "execution_count": 2,
   "id": "dd24936c",
   "metadata": {},
   "outputs": [
    {
     "name": "stdout",
     "output_type": "stream",
     "text": [
      "47\n"
     ]
    }
   ],
   "source": [
    "l = []\n",
    "for key in item_dict.keys():\n",
    "    if key in l:\n",
    "        continue\n",
    "    else:\n",
    "        l.append(key)\n",
    "\n",
    "print(len(l))"
   ]
  },
  {
   "cell_type": "markdown",
   "id": "8ef1cffc",
   "metadata": {},
   "source": [
    "## 1.2 Find the total number of transactions?"
   ]
  },
  {
   "cell_type": "code",
   "execution_count": 3,
   "id": "9830bec8",
   "metadata": {},
   "outputs": [
    {
     "name": "stdout",
     "output_type": "stream",
     "text": [
      "20\n"
     ]
    }
   ],
   "source": [
    "print(len(transaction_data))"
   ]
  },
  {
   "cell_type": "markdown",
   "id": "741f7466",
   "metadata": {},
   "source": [
    "## 1.3 Add items, try adding the item “banana” in stores. The cost of this item is 5. Add the item “banana” to the Cost dictionary. "
   ]
  },
  {
   "cell_type": "code",
   "execution_count": 4,
   "id": "8c7e76a9",
   "metadata": {},
   "outputs": [],
   "source": [
    "item_dict[\"banana\"] = 5"
   ]
  },
  {
   "cell_type": "markdown",
   "id": "956342f7",
   "metadata": {},
   "source": [
    "## 1.4 Use a function named add_item( ) to automatically add an item to the Cost dictionary given its name and price."
   ]
  },
  {
   "cell_type": "code",
   "execution_count": null,
   "id": "f286411e",
   "metadata": {},
   "outputs": [],
   "source": [
    "def add_item(name,price):\n",
    "    item_dict[name] = price\n",
    "    \n",
    "name = input(\"Enter the item name \")\n",
    "price = int(input(\"Enter the item price\"))\n",
    "\n",
    "add_item(name,price)"
   ]
  },
  {
   "cell_type": "markdown",
   "id": "62ca07d2",
   "metadata": {},
   "source": [
    "## 1.5 Remove an item: for example: if the customers at Walmart do not seem to be purchasing “banana,” and the store decides to discontinue this item. The function to should be able to remove the item “banana” from the Cost dictionary"
   ]
  },
  {
   "cell_type": "code",
   "execution_count": null,
   "id": "3b34028d",
   "metadata": {},
   "outputs": [],
   "source": [
    "def remove_item(name):\n",
    "    item_dict.pop(name)\n",
    "    \n",
    "name = input(\"enter the item name to remove \")\n",
    "remove_item(name)"
   ]
  },
  {
   "cell_type": "markdown",
   "id": "bd0e5f2f",
   "metadata": {},
   "source": [
    "# Question 2"
   ]
  },
  {
   "cell_type": "markdown",
   "id": "0e3c26ea",
   "metadata": {},
   "source": [
    "## 2.1 Write the code, to find the price of an item from the cost dictionary\n",
    ">Find the price of salmon from the cost dictionary"
   ]
  },
  {
   "cell_type": "code",
   "execution_count": null,
   "id": "5c40d548",
   "metadata": {},
   "outputs": [],
   "source": [
    "def find_price(name):\n",
    "    return item_dict.get(name)\n",
    "\n",
    "# name = input(\"enter the item name \")\n",
    "# find_price(name)    if the user wants to enter name and get the price, \n",
    "# then we can make use of the name variable and pass it in call\n",
    "\n",
    "value = find_price(\"salmon\")\n",
    "print(value)"
   ]
  },
  {
   "cell_type": "markdown",
   "id": "49862208",
   "metadata": {},
   "source": [
    "## 2.2 Write a code that helps the administrator find any particular transaction in the sequence\n",
    ">Try finding the ninth transaction from the data"
   ]
  },
  {
   "cell_type": "code",
   "execution_count": null,
   "id": "33db015f",
   "metadata": {},
   "outputs": [],
   "source": [
    "n = int(input(\"Enter the transaction \"))\n",
    "print(transaction_data[n-1])    #if we want the 9th transaction value passed will be 9-1 as list is indexed from 0 to n-1"
   ]
  },
  {
   "cell_type": "markdown",
   "id": "eaffdc43",
   "metadata": {},
   "source": [
    "## 2.3 How many items are present in the ninth transaction?"
   ]
  },
  {
   "cell_type": "code",
   "execution_count": null,
   "id": "f55c65f6",
   "metadata": {},
   "outputs": [],
   "source": [
    "n = int(input(\"Enter the transaction \"))\n",
    "print(len(transaction_data[n-1]))    # if n = 9 , then 3 will be printed as 9th transaction has three items."
   ]
  },
  {
   "cell_type": "markdown",
   "id": "e759929f",
   "metadata": {},
   "source": [
    "## 2.4 Find the total cost of the ninth transaction from the array of transactions. Example: Input: [‘avocado’, ‘chutney’, ‘cookies’], Output: 15\n"
   ]
  },
  {
   "cell_type": "code",
   "execution_count": null,
   "id": "5183219c",
   "metadata": {},
   "outputs": [],
   "source": [
    "import ast\n",
    "\n",
    "total = 0\n",
    "l = ast.literal_eval(input(\"Enter the list of items \"))\n",
    "\n",
    "for i in l:  #if given a transaction number, we can replace the list with that transaction_data[n-1], where n is the transaction number.\n",
    "    total = total + item_dict.get(i)\n",
    "\n",
    "print(total)"
   ]
  },
  {
   "cell_type": "markdown",
   "id": "80932a73",
   "metadata": {},
   "source": [
    "## 2.5 As per government guidelines, a mandatory 5% tax is applied to the total cost of a transaction. Find the final price of the second transaction after applicable taxes have been implemented."
   ]
  },
  {
   "cell_type": "code",
   "execution_count": 8,
   "id": "d9a3df8c",
   "metadata": {},
   "outputs": [
    {
     "name": "stdout",
     "output_type": "stream",
     "text": [
      "Enter the transaction 3\n",
      "7.35\n"
     ]
    }
   ],
   "source": [
    "total = 0\n",
    "fp = 0\n",
    "n = int(input(\"Enter the transaction \"))\n",
    "\n",
    "for i in transaction_data[n-1]:  #if given a list of items, we can replace transaction_data with that list.\n",
    "        total = total + item_dict.get(i)\n",
    "\n",
    "fp = total + total*0.05    #applying 5% tax to the total bill.\n",
    "print(fp)"
   ]
  },
  {
   "cell_type": "markdown",
   "id": "310a10d5",
   "metadata": {},
   "source": [
    "## 2.6 Create a function named find_total( ) to find the final price of any transaction after applicable taxes have been implemented."
   ]
  },
  {
   "cell_type": "code",
   "execution_count": null,
   "id": "b8090483",
   "metadata": {},
   "outputs": [],
   "source": [
    "def find_total(n):\n",
    "    total = 0\n",
    "    for i in transaction_data[n]:  #if given a list of items, we can replace transaction_data with that list.\n",
    "        total = total + item_dict.get(i)\n",
    "    return total\n",
    "\n",
    "n = int(input(\"Enter the transaction \"))\n",
    "totalcost = find_total(n-1)\n",
    "finalprice = finalprice + totalcost*0.05    #applying 5% tax to the total bill.\n",
    "print(finalprice)"
   ]
  },
  {
   "cell_type": "markdown",
   "id": "8b79e5df",
   "metadata": {},
   "source": [
    "# Question 3"
   ]
  },
  {
   "cell_type": "markdown",
   "id": "25d3f1a5",
   "metadata": {},
   "source": [
    "## 3.1 What is the data structure that can be used to count the frequency of items purchased "
   ]
  },
  {
   "cell_type": "markdown",
   "id": "90f1dd3f",
   "metadata": {},
   "source": [
    "We can use a dictionary to keep a count of the items purchased. The items can be considered as keys and the count can be treated as values. We can update the values whenever and item is purchased and also add a new key(item) if its already not in the data."
   ]
  },
  {
   "cell_type": "markdown",
   "id": "45791f2c",
   "metadata": {},
   "source": [
    "## 3.2 Create a frequency counter to count the number of items"
   ]
  },
  {
   "cell_type": "code",
   "execution_count": null,
   "id": "928ab720",
   "metadata": {},
   "outputs": [],
   "source": [
    "frequency_dict = {}\n",
    "\n",
    "for transaction in transaction_data:\n",
    "    for item in transaction:\n",
    "        if item in frequency_dict:\n",
    "            frequency_dict[item] = frequency_dict.get(item) + 1\n",
    "        else:\n",
    "            frequency_dict[item] = 1\n",
    "            \n",
    "print(frequency_dict)"
   ]
  },
  {
   "cell_type": "markdown",
   "id": "3e89fd0a",
   "metadata": {},
   "source": [
    "## 3.3 and 3.4 Create a function named update_counter( ) to automatically update the frequency counter in case any new transaction is made."
   ]
  },
  {
   "cell_type": "code",
   "execution_count": null,
   "id": "501f573d",
   "metadata": {},
   "outputs": [],
   "source": [
    "import ast\n",
    "\n",
    "l = ast.literal_eval(input(\"Enter the list of items \")) #input of items of new transaction list \n",
    "update_counter(l)\n",
    "\n",
    "def update_counter(l):\n",
    "    for item in l:\n",
    "        if item in frequency_dict:\n",
    "            frequency_dict[item] = frequency_dict.get(item) + 1\n",
    "        else:\n",
    "            frequency_dict[item] = 1\n",
    "\n",
    "print(frequency_dict)"
   ]
  },
  {
   "cell_type": "markdown",
   "id": "92a66373",
   "metadata": {},
   "source": [
    "# Question 4"
   ]
  },
  {
   "cell_type": "markdown",
   "id": "90584251",
   "metadata": {},
   "source": [
    "## sorting the frequency counter to get the top three items"
   ]
  },
  {
   "cell_type": "code",
   "execution_count": null,
   "id": "dedf988a",
   "metadata": {},
   "outputs": [],
   "source": [
    "from collections import OrderedDict\n",
    "from operator import itemgetter\n",
    "\n",
    "sorteddict = dict(OrderedDict(sorted(frequency_dict.items(), key=itemgetter(1), reverse=True)))\n",
    "print(sorteddict)\n",
    "\n",
    "#if the given transction list has items in top 3 then we can apply 20% discount"
   ]
  },
  {
   "cell_type": "markdown",
   "id": "f47b384c",
   "metadata": {},
   "source": [
    "## 4.1 What is the top-selling item?"
   ]
  },
  {
   "cell_type": "code",
   "execution_count": null,
   "id": "c08042bf",
   "metadata": {},
   "outputs": [],
   "source": [
    "#Top selling item is the item which has the highest frequency\n",
    "\n",
    "Keymax = max(zip(frequency_dict.values(), frequency_dict.keys()))[1]\n",
    "print(Keymax)"
   ]
  },
  {
   "cell_type": "code",
   "execution_count": null,
   "id": "696d1426",
   "metadata": {},
   "outputs": [],
   "source": []
  }
 ],
 "metadata": {
  "kernelspec": {
   "display_name": "Python 3 (ipykernel)",
   "language": "python",
   "name": "python3"
  },
  "language_info": {
   "codemirror_mode": {
    "name": "ipython",
    "version": 3
   },
   "file_extension": ".py",
   "mimetype": "text/x-python",
   "name": "python",
   "nbconvert_exporter": "python",
   "pygments_lexer": "ipython3",
   "version": "3.9.12"
  }
 },
 "nbformat": 4,
 "nbformat_minor": 5
}
