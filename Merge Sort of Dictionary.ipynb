{
 "cells": [
  {
   "cell_type": "code",
   "execution_count": 8,
   "id": "2aeb3bfb",
   "metadata": {},
   "outputs": [],
   "source": [
    "def merge_sort_reverse (arr):\n",
    "    if len (arr) <= 1:\n",
    "        return arr\n",
    "    mid = len (arr) // 2\n",
    "    # Split here\n",
    "    left = arr[: mid]\n",
    "    right = arr[mid:]\n",
    "    # Split recursively\n",
    "    right = merge_sort_reverse(right)\n",
    "    left = merge_sort_reverse(left)\n",
    "    # When return is returned, combine and pass the combined to the next\n",
    "    return merge2 (right, left)\n",
    "\n",
    "def merge2 (left, right):\n",
    "    merged = []\n",
    "    l_i, r_i = 0, 0\n",
    "    # Just merge from the left\n",
    "    while l_i == left[r_i]:\n",
    "        merged.append (right[l_i])\n",
    "        l_i += 1\n",
    "    else:\n",
    "        merged.append (left[r_i])\n",
    "        r_i += 1"
   ]
  },
  {
   "cell_type": "code",
   "execution_count": 9,
   "id": "de6c588c",
   "metadata": {},
   "outputs": [
    {
     "ename": "TypeError",
     "evalue": "'NoneType' object is not subscriptable",
     "output_type": "error",
     "traceback": [
      "\u001b[0;31m---------------------------------------------------------------------------\u001b[0m",
      "\u001b[0;31mTypeError\u001b[0m                                 Traceback (most recent call last)",
      "Input \u001b[0;32mIn [9]\u001b[0m, in \u001b[0;36m<cell line: 2>\u001b[0;34m()\u001b[0m\n\u001b[1;32m      1\u001b[0m d \u001b[38;5;241m=\u001b[39m {\u001b[38;5;124m'\u001b[39m\u001b[38;5;124mA\u001b[39m\u001b[38;5;124m'\u001b[39m: \u001b[38;5;241m1\u001b[39m, \u001b[38;5;124m'\u001b[39m\u001b[38;5;124mB\u001b[39m\u001b[38;5;124m'\u001b[39m: \u001b[38;5;241m2\u001b[39m, \u001b[38;5;124m'\u001b[39m\u001b[38;5;124mC\u001b[39m\u001b[38;5;124m'\u001b[39m: \u001b[38;5;241m3\u001b[39m, \u001b[38;5;124m'\u001b[39m\u001b[38;5;124mD\u001b[39m\u001b[38;5;124m'\u001b[39m: \u001b[38;5;241m4\u001b[39m, \u001b[38;5;124m'\u001b[39m\u001b[38;5;124mE\u001b[39m\u001b[38;5;124m'\u001b[39m: \u001b[38;5;241m5\u001b[39m}\n\u001b[0;32m----> 2\u001b[0m values \u001b[38;5;241m=\u001b[39m \u001b[43mmerge_sort_reverse\u001b[49m\u001b[43m(\u001b[49m\u001b[38;5;28;43mlist\u001b[39;49m\u001b[43m(\u001b[49m\u001b[43md\u001b[49m\u001b[38;5;241;43m.\u001b[39;49m\u001b[43mvalues\u001b[49m\u001b[43m(\u001b[49m\u001b[43m)\u001b[49m\u001b[43m)\u001b[49m\u001b[43m)\u001b[49m\n\u001b[1;32m      3\u001b[0m d2 \u001b[38;5;241m=\u001b[39m \u001b[38;5;28mdict\u001b[39m()\n\u001b[1;32m      4\u001b[0m \u001b[38;5;28;01mfor\u001b[39;00m value \u001b[38;5;129;01min\u001b[39;00m values:\n",
      "Input \u001b[0;32mIn [8]\u001b[0m, in \u001b[0;36mmerge_sort_reverse\u001b[0;34m(arr)\u001b[0m\n\u001b[1;32m      7\u001b[0m right \u001b[38;5;241m=\u001b[39m arr[mid:]\n\u001b[1;32m      8\u001b[0m \u001b[38;5;66;03m# Split recursively\u001b[39;00m\n\u001b[0;32m----> 9\u001b[0m right \u001b[38;5;241m=\u001b[39m \u001b[43mmerge_sort_reverse\u001b[49m\u001b[43m(\u001b[49m\u001b[43mright\u001b[49m\u001b[43m)\u001b[49m\n\u001b[1;32m     10\u001b[0m left \u001b[38;5;241m=\u001b[39m merge_sort_reverse(left)\n\u001b[1;32m     11\u001b[0m \u001b[38;5;66;03m# When return is returned, combine and pass the combined to the next\u001b[39;00m\n",
      "Input \u001b[0;32mIn [8]\u001b[0m, in \u001b[0;36mmerge_sort_reverse\u001b[0;34m(arr)\u001b[0m\n\u001b[1;32m     10\u001b[0m left \u001b[38;5;241m=\u001b[39m merge_sort_reverse(left)\n\u001b[1;32m     11\u001b[0m \u001b[38;5;66;03m# When return is returned, combine and pass the combined to the next\u001b[39;00m\n\u001b[0;32m---> 12\u001b[0m \u001b[38;5;28;01mreturn\u001b[39;00m \u001b[43mmerge2\u001b[49m\u001b[43m \u001b[49m\u001b[43m(\u001b[49m\u001b[43mright\u001b[49m\u001b[43m,\u001b[49m\u001b[43m \u001b[49m\u001b[43mleft\u001b[49m\u001b[43m)\u001b[49m\n",
      "Input \u001b[0;32mIn [8]\u001b[0m, in \u001b[0;36mmerge2\u001b[0;34m(left, right)\u001b[0m\n\u001b[1;32m     16\u001b[0m l_i, r_i \u001b[38;5;241m=\u001b[39m \u001b[38;5;241m0\u001b[39m, \u001b[38;5;241m0\u001b[39m\n\u001b[1;32m     17\u001b[0m \u001b[38;5;66;03m# Just merge from the left\u001b[39;00m\n\u001b[0;32m---> 18\u001b[0m \u001b[38;5;28;01mwhile\u001b[39;00m l_i \u001b[38;5;241m==\u001b[39m \u001b[43mleft\u001b[49m\u001b[43m[\u001b[49m\u001b[43mr_i\u001b[49m\u001b[43m]\u001b[49m:\n\u001b[1;32m     19\u001b[0m     merged\u001b[38;5;241m.\u001b[39mappend (right[l_i])\n\u001b[1;32m     20\u001b[0m     l_i \u001b[38;5;241m+\u001b[39m\u001b[38;5;241m=\u001b[39m \u001b[38;5;241m1\u001b[39m\n",
      "\u001b[0;31mTypeError\u001b[0m: 'NoneType' object is not subscriptable"
     ]
    }
   ],
   "source": [
    "d = {'A': 1, 'B': 2, 'C': 3, 'D': 4, 'E': 5}\n",
    "values = merge_sort_reverse(list(d.values()))\n",
    "d2 = dict()\n",
    "for value in values:\n",
    "    for key in d:\n",
    "        if d [key] == value:\n",
    "            d2 [key] = value\n",
    "print (d2)"
   ]
  },
  {
   "cell_type": "code",
   "execution_count": 18,
   "id": "a0123825",
   "metadata": {},
   "outputs": [
    {
     "name": "stdout",
     "output_type": "stream",
     "text": [
      "{'A': 1}\n",
      "1 \n",
      "{'B': 2}\n",
      "2 \n",
      "{'A': 1, 'B': 2}\n",
      "1 2 \n",
      "{'C': 3}\n",
      "3 \n",
      "{'D': 4}\n",
      "4 \n",
      "{'E': 5}\n",
      "5 \n",
      "{'D': 4, 'E': 5}\n",
      "4 5 \n",
      "{'C': 3, 'D': 4, 'E': 5}\n",
      "3 4 5 \n",
      "{'A': 1, 'B': 2, 'C': 3, 'D': 4, 'E': 5}\n",
      "1 2 3 4 5 \n"
     ]
    }
   ],
   "source": [
    "def mergeSort(arr):\n",
    "    if len(arr) > 1:\n",
    " \n",
    "        mid = len(arr)//2    # Finding the mid of the array\n",
    " \n",
    "        L = arr[:mid]    # Dividing the array elements\n",
    "\n",
    "        R = arr[mid:]    # into 2 halves\n",
    " \n",
    "        mergeSort(L)     # Sorting the first half\n",
    " \n",
    "        # Sorting the second half\n",
    "        mergeSort(R)\n",
    " \n",
    "        i = j = k = 0\n",
    " \n",
    "        # Copy data to temp arrays L[] and R[]\n",
    "        while i < len(L) and j < len(R):\n",
    "            if L[i] < R[j]:\n",
    "                arr[k] = L[i]\n",
    "                i += 1\n",
    "            else:\n",
    "                arr[k] = R[j]\n",
    "                j += 1\n",
    "            k += 1\n",
    " \n",
    "        # Checking if any element was left\n",
    "        while i < len(L):\n",
    "            arr[k] = L[i]\n",
    "            i += 1\n",
    "            k += 1\n",
    " \n",
    "        while j < len(R):\n",
    "            arr[k] = R[j]\n",
    "            j += 1\n",
    "            k += 1\n",
    "    d2 = dict()\n",
    "    for value in arr:\n",
    "        for key in d:\n",
    "            if d [key] == value:\n",
    "                d2 [key] = value\n",
    "    print (d2)\n",
    "\n",
    "    for i in range(len(arr)):\n",
    "        print(arr[i], end=\" \")\n",
    "    print()\n",
    "    \n",
    "# Driver Code\n",
    "if __name__ == '__main__':\n",
    "    d = {'A': 1, 'B': 2, 'C': 3, 'D': 4, 'E': 5}\n",
    "    arr = mergeSort(list(d.values()))\n",
    "\n"
   ]
  },
  {
   "cell_type": "code",
   "execution_count": 11,
   "id": "37678911",
   "metadata": {},
   "outputs": [
    {
     "ename": "TypeError",
     "evalue": "'NoneType' object is not iterable",
     "output_type": "error",
     "traceback": [
      "\u001b[0;31m---------------------------------------------------------------------------\u001b[0m",
      "\u001b[0;31mTypeError\u001b[0m                                 Traceback (most recent call last)",
      "Input \u001b[0;32mIn [11]\u001b[0m, in \u001b[0;36m<cell line: 4>\u001b[0;34m()\u001b[0m\n\u001b[1;32m      2\u001b[0m values \u001b[38;5;241m=\u001b[39m mergeSort(\u001b[38;5;28mlist\u001b[39m(d\u001b[38;5;241m.\u001b[39mvalues()))\n\u001b[1;32m      3\u001b[0m d2 \u001b[38;5;241m=\u001b[39m \u001b[38;5;28mdict\u001b[39m()\n\u001b[0;32m----> 4\u001b[0m \u001b[38;5;28;01mfor\u001b[39;00m value \u001b[38;5;129;01min\u001b[39;00m values:\n\u001b[1;32m      5\u001b[0m     \u001b[38;5;28;01mfor\u001b[39;00m key \u001b[38;5;129;01min\u001b[39;00m d:\n\u001b[1;32m      6\u001b[0m         \u001b[38;5;28;01mif\u001b[39;00m d [key] \u001b[38;5;241m==\u001b[39m value:\n",
      "\u001b[0;31mTypeError\u001b[0m: 'NoneType' object is not iterable"
     ]
    }
   ],
   "source": [
    "d = {'A': 1, 'B': 2, 'C': 3, 'D': 4, 'E': 5}\n",
    "values = mergeSort(list(d.values()))\n",
    "d2 = dict()\n",
    "for value in values:\n",
    "    for key in d:\n",
    "        if d [key] == value:\n",
    "            d2 [key] = value\n",
    "print (d2)"
   ]
  },
  {
   "cell_type": "code",
   "execution_count": 14,
   "id": "2ad83072",
   "metadata": {},
   "outputs": [
    {
     "name": "stdout",
     "output_type": "stream",
     "text": [
      "[1, 2, 3, 4, 5]\n"
     ]
    }
   ],
   "source": [
    "d = {'A': 1, 'B': 2, 'C': 3, 'D': 4, 'E': 5}\n",
    "arr =list(d.values())\n",
    "print(arr)"
   ]
  },
  {
   "cell_type": "code",
   "execution_count": null,
   "id": "61f4bc7d",
   "metadata": {},
   "outputs": [],
   "source": []
  }
 ],
 "metadata": {
  "kernelspec": {
   "display_name": "Python 3 (ipykernel)",
   "language": "python",
   "name": "python3"
  },
  "language_info": {
   "codemirror_mode": {
    "name": "ipython",
    "version": 3
   },
   "file_extension": ".py",
   "mimetype": "text/x-python",
   "name": "python",
   "nbconvert_exporter": "python",
   "pygments_lexer": "ipython3",
   "version": "3.9.12"
  }
 },
 "nbformat": 4,
 "nbformat_minor": 5
}
